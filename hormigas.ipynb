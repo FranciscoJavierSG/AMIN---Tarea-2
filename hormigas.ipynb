{
 "cells": [
  {
   "cell_type": "markdown",
   "metadata": {},
   "source": [
    "Importar librerias"
   ]
  },
  {
   "cell_type": "code",
   "execution_count": 61,
   "metadata": {},
   "outputs": [],
   "source": [
    "import pandas as pd\n",
    "import numpy as np"
   ]
  },
  {
   "cell_type": "markdown",
   "metadata": {},
   "source": [
    "Importar datos del berlin32.txt a una matriz"
   ]
  },
  {
   "cell_type": "code",
   "execution_count": 86,
   "metadata": {},
   "outputs": [
    {
     "name": "stdout",
     "output_type": "stream",
     "text": [
      "Matriz:\n",
      " [[ 565  575]\n",
      " [  25  185]\n",
      " [ 345  750]\n",
      " [ 945  685]\n",
      " [ 845  655]\n",
      " [ 880  660]\n",
      " [  25  230]\n",
      " [ 525 1000]\n",
      " [ 580 1175]\n",
      " [ 650 1130]\n",
      " [1605  620]\n",
      " [1220  580]\n",
      " [1465  200]\n",
      " [1530    5]\n",
      " [ 845  680]\n",
      " [ 725  370]\n",
      " [ 145  665]\n",
      " [ 415  635]\n",
      " [ 510  875]\n",
      " [ 560  365]\n",
      " [ 300  465]\n",
      " [ 520  585]\n",
      " [ 480  415]\n",
      " [ 835  625]\n",
      " [ 975  580]\n",
      " [1215  245]\n",
      " [1320  315]\n",
      " [1250  400]\n",
      " [ 660  180]\n",
      " [ 410  250]\n",
      " [ 420  555]\n",
      " [ 575  665]\n",
      " [1150 1160]\n",
      " [ 700  580]\n",
      " [ 685  595]\n",
      " [ 685  610]\n",
      " [ 770  610]\n",
      " [ 795  645]\n",
      " [ 720  635]\n",
      " [ 760  650]\n",
      " [ 475  960]\n",
      " [  95  260]\n",
      " [ 875  920]\n",
      " [ 700  500]\n",
      " [ 555  815]\n",
      " [ 830  485]\n",
      " [1170   65]\n",
      " [ 830  610]\n",
      " [ 605  625]\n",
      " [ 595  360]\n",
      " [1340  725]\n",
      " [1740  245]] \n",
      "Numero de variables:  52\n"
     ]
    }
   ],
   "source": [
    "berlin52 = pd.read_csv(\"berlin32.txt\", header=None, skiprows=6, skipfooter=1, engine='python', delim_whitespace=True, usecols=(1,2), dtype='i')\n",
    "\n",
    "matrizBerlin52 = berlin52.to_numpy() \n",
    "\n",
    "#matrizBerlin52.shape = (52, 2)\n",
    "\n",
    "numVariables = matrizBerlin52.shape[0]\n",
    "\n",
    "print('Matriz:\\n', matrizBerlin52,'\\nNumero de variables: ', numVariables)"
   ]
  },
  {
   "cell_type": "markdown",
   "metadata": {},
   "source": [
    "Crear matriz de distancias a partir de la matriz anterior"
   ]
  },
  {
   "cell_type": "code",
   "execution_count": null,
   "metadata": {},
   "outputs": [],
   "source": [
    "#asdfasdfas"
   ]
  },
  {
   "cell_type": "markdown",
   "metadata": {},
   "source": [
    "Crear matriz de heuristicas a partir de la matriz anterior"
   ]
  },
  {
   "cell_type": "code",
   "execution_count": null,
   "metadata": {},
   "outputs": [],
   "source": [
    "#asdfasdf"
   ]
  }
 ],
 "metadata": {
  "kernelspec": {
   "display_name": "Python 3.9.7 ('base')",
   "language": "python",
   "name": "python3"
  },
  "language_info": {
   "codemirror_mode": {
    "name": "ipython",
    "version": 3
   },
   "file_extension": ".py",
   "mimetype": "text/x-python",
   "name": "python",
   "nbconvert_exporter": "python",
   "pygments_lexer": "ipython3",
   "version": "3.9.7"
  },
  "orig_nbformat": 4,
  "vscode": {
   "interpreter": {
    "hash": "1866c50ceecc0740dafef64aeeec149fceb197abd6c79ccbdb5e1b1afaadbd76"
   }
  }
 },
 "nbformat": 4,
 "nbformat_minor": 2
}
