{
 "cells": [
  {
   "cell_type": "markdown",
   "metadata": {},
   "source": [
    "Importar librerias"
   ]
  },
  {
   "cell_type": "code",
   "execution_count": 1,
   "metadata": {},
   "outputs": [],
   "source": [
    "import pandas as pd\n",
    "import numpy as np"
   ]
  },
  {
   "cell_type": "markdown",
   "metadata": {},
   "source": [
    "Importar datos del berlin32.txt a una matriz"
   ]
  },
  {
   "cell_type": "code",
   "execution_count": 2,
   "metadata": {},
   "outputs": [
    {
     "name": "stdout",
     "output_type": "stream",
     "text": [
      "Matriz:\n",
      " [[ 565  575]\n",
      " [  25  185]\n",
      " [ 345  750]\n",
      " [ 945  685]\n",
      " [ 845  655]\n",
      " [ 880  660]\n",
      " [  25  230]\n",
      " [ 525 1000]\n",
      " [ 580 1175]\n",
      " [ 650 1130]\n",
      " [1605  620]\n",
      " [1220  580]\n",
      " [1465  200]\n",
      " [1530    5]\n",
      " [ 845  680]\n",
      " [ 725  370]\n",
      " [ 145  665]\n",
      " [ 415  635]\n",
      " [ 510  875]\n",
      " [ 560  365]\n",
      " [ 300  465]\n",
      " [ 520  585]\n",
      " [ 480  415]\n",
      " [ 835  625]\n",
      " [ 975  580]\n",
      " [1215  245]\n",
      " [1320  315]\n",
      " [1250  400]\n",
      " [ 660  180]\n",
      " [ 410  250]\n",
      " [ 420  555]\n",
      " [ 575  665]\n",
      " [1150 1160]\n",
      " [ 700  580]\n",
      " [ 685  595]\n",
      " [ 685  610]\n",
      " [ 770  610]\n",
      " [ 795  645]\n",
      " [ 720  635]\n",
      " [ 760  650]\n",
      " [ 475  960]\n",
      " [  95  260]\n",
      " [ 875  920]\n",
      " [ 700  500]\n",
      " [ 555  815]\n",
      " [ 830  485]\n",
      " [1170   65]\n",
      " [ 830  610]\n",
      " [ 605  625]\n",
      " [ 595  360]\n",
      " [1340  725]\n",
      " [1740  245]] \n",
      "Numero de variables:  52\n"
     ]
    }
   ],
   "source": [
    "berlin52 = pd.read_csv(\"berlin32.txt\", header=None, skiprows=6, skipfooter=1, engine='python', delim_whitespace=True, usecols=(1,2), dtype=int)\n",
    "\n",
    "matrizBerlin52 = berlin52.to_numpy() \n",
    "\n",
    "numVariables = matrizBerlin52.shape[0] #52\n",
    "\n",
    "print('Matriz:\\n', matrizBerlin52,'\\nNumero de variables: ', numVariables)"
   ]
  },
  {
   "cell_type": "markdown",
   "metadata": {},
   "source": [
    "Crear matriz de distancias a partir de la matriz anterior"
   ]
  },
  {
   "cell_type": "code",
   "execution_count": 3,
   "metadata": {},
   "outputs": [
    {
     "name": "stdout",
     "output_type": "stream",
     "text": [
      "Matriz de Distancias:\n",
      " [[-1.00000000e+00  6.66108099e+02  2.81113856e+02 ...  2.17082933e+02\n",
      "   7.89382670e+02  1.22046098e+03]\n",
      " [ 6.66108099e+02 -1.00000000e+00  6.49326574e+02 ...  5.96259172e+02\n",
      "   1.42155724e+03  1.71604924e+03]\n",
      " [ 2.81113856e+02  6.49326574e+02 -1.00000000e+00 ...  4.63249393e+02\n",
      "   9.95314021e+02  1.48359361e+03]\n",
      " ...\n",
      " [ 2.17082933e+02  5.96259172e+02  4.63249393e+02 ... -1.00000000e+00\n",
      "   8.29608341e+02  1.15076062e+03]\n",
      " [ 7.89382670e+02  1.42155724e+03  9.95314021e+02 ...  8.29608341e+02\n",
      "  -1.00000000e+00  6.24819974e+02]\n",
      " [ 1.22046098e+03  1.71604924e+03  1.48359361e+03 ...  1.15076062e+03\n",
      "   6.24819974e+02 -1.00000000e+00]]\n"
     ]
    }
   ],
   "source": [
    "matrizDistancias = np.full((numVariables,numVariables), fill_value=-1.0, dtype=float)\n",
    "\n",
    "for i in range(numVariables-1):\n",
    "    for j in range(i+1, numVariables):\n",
    "        distancia = np.sqrt(np.sum(np.square(matrizBerlin52[i]-matrizBerlin52[j]))) #Se llena la matriz de distancias utilizando los valores de la matrizBerlin32, utilizando la formula de distancia\n",
    "        matrizDistancias[i][j] = distancia\n",
    "        matrizDistancias[j][i] = distancia\n",
    "\n",
    "print('Matriz de Distancias:\\n',matrizDistancias)"
   ]
  },
  {
   "cell_type": "markdown",
   "metadata": {},
   "source": [
    "Crear matriz de heuristicas a partir de la matriz anterior"
   ]
  },
  {
   "cell_type": "code",
   "execution_count": 4,
   "metadata": {},
   "outputs": [
    {
     "name": "stdout",
     "output_type": "stream",
     "text": [
      "Matriz de Heuristicas:\n",
      " [[0.         0.00150126 0.00355728 ... 0.00460653 0.00126681 0.00081936]\n",
      " [0.00150126 0.         0.00154006 ... 0.00167712 0.00070345 0.00058273]\n",
      " [0.00355728 0.00154006 0.         ... 0.00215866 0.00100471 0.00067404]\n",
      " ...\n",
      " [0.00460653 0.00167712 0.00215866 ... 0.         0.00120539 0.00086899]\n",
      " [0.00126681 0.00070345 0.00100471 ... 0.00120539 0.         0.00160046]\n",
      " [0.00081936 0.00058273 0.00067404 ... 0.00086899 0.00160046 0.        ]]\n"
     ]
    }
   ],
   "source": [
    "matrizHeuristicas = np.full_like(matrizDistancias, fill_value=(1/matrizDistancias), dtype=float) #Se llena la matriz de heuristicas con 1 dividido lo que haya en cada posicion de matrizDistancias  \n",
    "np.fill_diagonal(matrizHeuristicas, 0.0) #Esto se hace para llenar de 0s la diagonal de la matriz \n",
    "\n",
    "print('Matriz de Heuristicas:\\n',matrizHeuristicas)"
   ]
  },
  {
   "cell_type": "markdown",
   "metadata": {},
   "source": [
    "Se crea la función que calculará el costo "
   ]
  },
  {
   "cell_type": "code",
   "execution_count": 5,
   "metadata": {},
   "outputs": [],
   "source": [
    "def solucionCalcularCosto(cantNodos,matrizSolucion,matrizBase):\n",
    "    aux = matrizBase[matrizSolucion[cantNodos-1]][matrizSolucion[0]]\n",
    "    for i in range(cantNodos-1):\n",
    "        aux += (matrizBase[matrizSolucion[i]][matrizSolucion[i+1]])\n",
    "    return aux"
   ]
  },
  {
   "cell_type": "code",
   "execution_count": 6,
   "metadata": {},
   "outputs": [
    {
     "name": "stdout",
     "output_type": "stream",
     "text": [
      "0.16878624109718665\n"
     ]
    }
   ],
   "source": [
    "mejorSolucion = np.arange(0,numVariables)\n",
    "np.random.shuffle(mejorSolucion)\n",
    "solucionMejorCosto = solucionCalcularCosto(numVariables,mejorSolucion,matrizHeuristicas)\n",
    "\n",
    "print(solucionMejorCosto)"
   ]
  },
  {
   "cell_type": "code",
   "execution_count": 7,
   "metadata": {},
   "outputs": [],
   "source": [
    "def obtenerMatrizFeromonas(matriz,numVar,mejorCosto):\n",
    "    feromona = np.full_like(matriz, 1/(mejorCosto*numVar))\n",
    "\n",
    "    return feromona"
   ]
  },
  {
   "cell_type": "code",
   "execution_count": 8,
   "metadata": {},
   "outputs": [
    {
     "data": {
      "text/plain": [
       "(array([[0.11393564, 0.11393564, 0.11393564, ..., 0.11393564, 0.11393564,\n",
       "         0.11393564],\n",
       "        [0.11393564, 0.11393564, 0.11393564, ..., 0.11393564, 0.11393564,\n",
       "         0.11393564],\n",
       "        [0.11393564, 0.11393564, 0.11393564, ..., 0.11393564, 0.11393564,\n",
       "         0.11393564],\n",
       "        ...,\n",
       "        [0.11393564, 0.11393564, 0.11393564, ..., 0.11393564, 0.11393564,\n",
       "         0.11393564],\n",
       "        [0.11393564, 0.11393564, 0.11393564, ..., 0.11393564, 0.11393564,\n",
       "         0.11393564],\n",
       "        [0.11393564, 0.11393564, 0.11393564, ..., 0.11393564, 0.11393564,\n",
       "         0.11393564]]),\n",
       " 8.776884537053705)"
      ]
     },
     "execution_count": 8,
     "metadata": {},
     "output_type": "execute_result"
    }
   ],
   "source": [
    "obtenerMatrizFeromonas(matrizHeuristicas,numVariables,solucionMejorCosto)"
   ]
  },
  {
   "cell_type": "code",
   "execution_count": 9,
   "metadata": {},
   "outputs": [],
   "source": [
    "def inicializarHormigas(hormiga, nodos):\n",
    "    poblacion = np.full((hormiga, nodos), -1)\n",
    "    for i in range(hormiga):\n",
    "        poblacion[i][0] = float(np.random.randint(nodos))\n",
    "    return poblacion"
   ]
  },
  {
   "cell_type": "code",
   "execution_count": 10,
   "metadata": {},
   "outputs": [],
   "source": [
    "def seleccionar_nuevo_segmento(nodos,tamañoPobl,pobl,feromona,feromLocal,prob_max,matrizDistancias,valor_heur,evap_ferom):\n",
    "    matrizNodos = np.arange(nodos)\n",
    "    for i in range(tamañoPobl):\n",
    "        row = pobl[i][:]\n",
    "        nodosVisitados = np.where(row != -1)\n",
    "        nodosVisitados = [pobl[i][item] for item in nodosVisitados]\n",
    "        nodosNoVisitados = [item for item in matrizNodos if item not in nodosVisitados[0]]\n",
    "        if np.random.rand() < prob_max:\n",
    "            arg = []\n",
    "            for j in nodosNoVisitados:\n",
    "                arg.append(feromona[nodosVisitados[0][-1]][j]*((matrizDistancias[nodosVisitados[0][-1]][j])**valor_heur))\n",
    "            arg = np.array(arg)\n",
    "            max = np.where(arg == np.amax(arg))\n",
    "            pobl[i][len(nodosVisitados[0])] = nodosNoVisitados[max[0][0]]\n",
    "            feromona[pobl[i][len(nodosVisitados[0])]][pobl[i][len(nodosVisitados[0])-1]] = (1-evap_ferom)*feromona[pobl[i][len(nodosVisitados[0])]][pobl[i][len(nodosVisitados[0])-1]] + evap_ferom/(nodos*feromLocal)\n",
    "            feromona[pobl[i][len(nodosVisitados[0])-1]][pobl[i][len(nodosVisitados[0])]] = feromona[pobl[i][len(nodosVisitados[0])]][pobl[i][len(nodosVisitados[0])-1]]\n",
    "        else:\n",
    "            arg = [0]\n",
    "            for j in range(len(nodosNoVisitados)):\n",
    "                arg.append(feromona[nodosVisitados[0][-1]][nodosNoVisitados[j]]*((matrizDistancias[nodosVisitados[0][-1]][nodosNoVisitados[j]])**valor_heur))\n",
    "            arg /= np.sum(arg)\n",
    "            arg = np.array(arg)\n",
    "            arg = np.cumsum(arg)\n",
    "            rand = np.random.rand()\n",
    "            pos = np.where(arg < rand)\n",
    "            pobl[i][len(nodosVisitados[0])] = nodosNoVisitados[pos[0][-1]]\n",
    "            feromona[pobl[i][len(nodosVisitados[0])]][pobl[i][len(nodosVisitados[0])-1]] = (1-evap_ferom)*feromona[pobl[i][len(nodosVisitados[0])]][pobl[i][len(nodosVisitados[0])-1]] + evap_ferom/(nodos*feromLocal)\n",
    "            feromona[pobl[i][len(nodosVisitados[0])-1]][pobl[i][len(nodosVisitados[0])]] = feromona[pobl[i][len(nodosVisitados[0])]][pobl[i][len(nodosVisitados[0])-1]]\n",
    "    return pobl"
   ]
  }
 ],
 "metadata": {
  "kernelspec": {
   "display_name": "Python 3.9.7 ('base')",
   "language": "python",
   "name": "python3"
  },
  "language_info": {
   "codemirror_mode": {
    "name": "ipython",
    "version": 3
   },
   "file_extension": ".py",
   "mimetype": "text/x-python",
   "name": "python",
   "nbconvert_exporter": "python",
   "pygments_lexer": "ipython3",
   "version": "3.9.7"
  },
  "orig_nbformat": 4,
  "vscode": {
   "interpreter": {
    "hash": "1866c50ceecc0740dafef64aeeec149fceb197abd6c79ccbdb5e1b1afaadbd76"
   }
  }
 },
 "nbformat": 4,
 "nbformat_minor": 2
}
